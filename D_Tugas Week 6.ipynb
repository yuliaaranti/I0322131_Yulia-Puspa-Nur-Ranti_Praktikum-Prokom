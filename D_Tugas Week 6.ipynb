{
 "cells": [
  {
   "attachments": {},
   "cell_type": "markdown",
   "metadata": {},
   "source": [
    "1. Tulis program dengan fungsi untuk menentukan angka median dari tiga angka yang diberikan!\n",
    "     ###### Note: Angka ditentukan sendiri oleh praktikan"
   ]
  },
  {
   "cell_type": "code",
   "execution_count": 3,
   "metadata": {},
   "outputs": [
    {
     "name": "stdout",
     "output_type": "stream",
     "text": [
      "Median dari ketiga bilangan tersebut adalah 100\n"
     ]
    }
   ],
   "source": [
    "# Kerjakan Nomor 1 di bawah ini\n",
    "def median(a, b, c):\n",
    "    if a >= b:\n",
    "        if b >= c:\n",
    "            return b\n",
    "        elif a <= c:\n",
    "            return a\n",
    "        else:\n",
    "            return c\n",
    "    elif a > c:\n",
    "        return a\n",
    "    elif b > c:\n",
    "        return c\n",
    "    else:\n",
    "        return b\n",
    "    \n",
    "a = 100\n",
    "b = 291\n",
    "c = 77\n",
    "hasil = median(a, b, c)\n",
    "print(f\"Median dari ketiga bilangan tersebut adalah\", hasil)\n"
   ]
  },
  {
   "attachments": {},
   "cell_type": "markdown",
   "metadata": {},
   "source": [
    "2. Tulis fungsi Python yang mengambil list awal dan menampilkan list baru dengan angka unik (tidak ada angka yang sama) dari list yang pertama."
   ]
  },
  {
   "cell_type": "code",
   "execution_count": 2,
   "metadata": {},
   "outputs": [
    {
     "name": "stdout",
     "output_type": "stream",
     "text": [
      "[40, 41, 42, 44, 45, 46, 47, 48, 50]\n"
     ]
    }
   ],
   "source": [
    "list_awal = [40,40,40,40,40,41,41,42,44,45,45,45,45,46,47,48,50,50,50]"
   ]
  },
  {
   "cell_type": "code",
   "execution_count": 3,
   "metadata": {},
   "outputs": [
    {
     "name": "stdout",
     "output_type": "stream",
     "text": [
      "[40, 41, 42, 44, 45, 46, 47, 48, 50]\n"
     ]
    }
   ],
   "source": [
    "# Kerjakan Nomor 2 di bawah ini\n",
    "def hasil(list_awal):\n",
    "    angka_unik = []\n",
    "    for number in list_awal:\n",
    "        if number not in angka_unik:\n",
    "            angka_unik.append(number)\n",
    "    return angka_unik\n",
    "\n",
    "angka_unik = hasil(list_awal)\n",
    "print(angka_unik)"
   ]
  },
  {
   "attachments": {},
   "cell_type": "markdown",
   "metadata": {},
   "source": [
    "3. Terdapat 2 list yang berbeda, gabungkan 2 list berikut menggunakan fungsi built-in dan tampilkan hasilnya dengan cara menurun/memakai perulangan/bukan menggunakan list! "
   ]
  },
  {
   "cell_type": "code",
   "execution_count": 14,
   "metadata": {},
   "outputs": [
    {
     "name": "stdout",
     "output_type": "stream",
     "text": [
      "bintang\n",
      "angsa\n",
      "kertas\n",
      "solo\n",
      "apel\n",
      "sebuah\n",
      "sepasang\n",
      "selembar\n",
      "kota\n",
      "buah\n"
     ]
    }
   ],
   "source": [
    "list1 = ['buah', 'kota', 'selembar', 'sepasang', 'sebuah']\n",
    "list2 = ['apel', 'solo', 'kertas', 'angsa', 'bintang']\n",
    "\n",
    "combined = list1+list2\n",
    "for i in range(len(combined)-1, -1, -1):\n",
    "    print(combined[i])"
   ]
  }
 ],
 "metadata": {
  "kernelspec": {
   "display_name": "Python 3",
   "language": "python",
   "name": "python3"
  },
  "language_info": {
   "codemirror_mode": {
    "name": "ipython",
    "version": 3
   },
   "file_extension": ".py",
   "mimetype": "text/x-python",
   "name": "python",
   "nbconvert_exporter": "python",
   "pygments_lexer": "ipython3",
   "version": "3.10.7"
  },
  "orig_nbformat": 4,
  "vscode": {
   "interpreter": {
    "hash": "5addf786bcd861d1ce5006f23111f8cbb206731e5b61b0a5632ba9e0252558a8"
   }
  }
 },
 "nbformat": 4,
 "nbformat_minor": 2
}
