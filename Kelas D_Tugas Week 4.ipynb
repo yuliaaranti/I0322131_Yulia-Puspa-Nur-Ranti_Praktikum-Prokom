{
 "cells": [
  {
   "cell_type": "code",
   "execution_count": 1,
   "metadata": {},
   "outputs": [
    {
     "name": "stdout",
     "output_type": "stream",
     "text": [
      "YULIA PUSPA NUR RANTI\n",
      "I0322131\n",
      "D\n"
     ]
    }
   ],
   "source": [
    "print(input(\"Nama: \"))\n",
    "print(input(\"NIM: \"))\n",
    "print(input(\"Kelas: \"))"
   ]
  },
  {
   "attachments": {},
   "cell_type": "markdown",
   "metadata": {},
   "source": [
    "## 1."
   ]
  },
  {
   "attachments": {},
   "cell_type": "markdown",
   "metadata": {},
   "source": [
    "Buatlah program yang menampilkan salam “Selamat Pagi” dari berbagai negara {Inggris, Perancis, Italia, Spanyol, Jepang, Korea} dengan dua input dari user yaitu bahasa dan diikuti nama user.<br>\n",
    "<br>Ex : \n",
    "<br>\"Ohayou, Onii Chan\"\n",
    "> *note: Kerjakan soal ini dengan percabangan*"
   ]
  },
  {
   "cell_type": "code",
   "execution_count": 43,
   "metadata": {},
   "outputs": [
    {
     "name": "stdout",
     "output_type": "stream",
     "text": [
      "Selamat pagi, Yulia\n",
      "Kepada bahasa apa anda ingin menerjemahkan ucapan selamat pagi? inggris\n",
      "Good morning, Yulia\n"
     ]
    }
   ],
   "source": [
    "nama = str(input(\"Masukkan nama anda\"))\n",
    "print(f\"Selamat pagi, {nama}\" )\n",
    "bahasa = str(input(\"Kepada bahasa apa anda ingin menerjemahkan ucapan selamat pagi?\"))\n",
    "print(\"Kepada bahasa apa anda ingin menerjemahkan ucapan selamat pagi?\", bahasa)\n",
    "\n",
    "english = f\"Good morning, {nama}\"\n",
    "france = f\"Bonjour, {nama}\"\n",
    "italy = f\"Buongiorno, {nama}\"\n",
    "spain = f\"Buen día, {nama}\"\n",
    "japan = f\"おはよう, {nama}\"\n",
    "korea = f\"좋은 아침이에요, {nama}\"\n",
    "\n",
    "if bahasa == \"Inggris\" :\n",
    "    print(english)\n",
    "elif bahasa ==\"Prancis\" :\n",
    "    print(france)\n",
    "elif bahasa ==\"Italia\" :\n",
    "    print(italy)\n",
    "elif bahasa ==\"Spanyol\" :\n",
    "    print(spain)\n",
    "elif bahasa ==\"Jepang\" :\n",
    "    print(japan)\n",
    "elif bahasa == \"Korea\" :\n",
    "    print(korea)\n",
    "else : print(\"Maaf, bahasa ini belum ada dalam kamus\")\n",
    "\n",
    "\n"
   ]
  },
  {
   "cell_type": "code",
   "execution_count": null,
   "metadata": {},
   "outputs": [],
   "source": []
  },
  {
   "cell_type": "code",
   "execution_count": null,
   "metadata": {},
   "outputs": [],
   "source": []
  },
  {
   "attachments": {},
   "cell_type": "markdown",
   "metadata": {},
   "source": [
    "## 2."
   ]
  },
  {
   "attachments": {},
   "cell_type": "markdown",
   "metadata": {},
   "source": [
    "Buatlah program perhitungan umur dengan menggunakan input user yaitu tahun lahir dari user.<br>\n",
    "<br>Output yang dihasilkan adalah sebagai berikut:\n",
    "<br>\"Apakah anda berasal dari masa depan?\"\n",
    "<br>\"Anda barusaja lahir\"\n",
    "<br>\"Umur Anda adalah xx tahun\"\n",
    "> *note: Kerjakan soal ini dengan percabangan*"
   ]
  },
  {
   "cell_type": "code",
   "execution_count": 24,
   "metadata": {},
   "outputs": [
    {
     "name": "stdout",
     "output_type": "stream",
     "text": [
      "Anda baru saja lahir\n"
     ]
    }
   ],
   "source": [
    "import datetime\n",
    "\n",
    "birthdate = int(input(\"Masukkan tahun lahir (yyyy)\"))\n",
    "umur =  datetime.date.today().year-birthdate\n",
    "\n",
    "if birthdate < 2023 :\n",
    "    print(f\"Umur anda adalah {umur} tahun\")\n",
    "elif birthdate == 2023 :\n",
    "    print(\"Anda baru saja lahir\")\n",
    "else : print(\"Apakah anda berasal dari masa depan?\")\n"
   ]
  }
 ],
 "metadata": {
  "kernelspec": {
   "display_name": "Python 3",
   "language": "python",
   "name": "python3"
  },
  "language_info": {
   "codemirror_mode": {
    "name": "ipython",
    "version": 3
   },
   "file_extension": ".py",
   "mimetype": "text/x-python",
   "name": "python",
   "nbconvert_exporter": "python",
   "pygments_lexer": "ipython3",
   "version": "3.10.7"
  },
  "orig_nbformat": 4
 },
 "nbformat": 4,
 "nbformat_minor": 2
}
