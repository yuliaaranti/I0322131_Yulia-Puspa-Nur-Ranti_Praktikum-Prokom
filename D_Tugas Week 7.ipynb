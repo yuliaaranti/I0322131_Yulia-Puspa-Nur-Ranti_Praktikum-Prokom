{
 "cells": [
  {
   "cell_type": "code",
   "execution_count": 2,
   "metadata": {},
   "outputs": [
    {
     "data": {
      "text/plain": [
       "[[4, 3, 2], [4, 3, 5]]"
      ]
     },
     "execution_count": 2,
     "metadata": {},
     "output_type": "execute_result"
    }
   ],
   "source": [
    "#Buatlah sebuah fungsi untuk membuat matrix berdasarkan input dari user\n",
    "\n",
    "def create_matrix(baris,kolom):\n",
    "    matrix = []\n",
    "    for x in range(baris):\n",
    "        baris2 = []\n",
    "        for y in range(kolom):\n",
    "            angka = int(input(f\"Masukkan elemen matriks[{x}][{y}]: \"))\n",
    "            baris2.append(angka)\n",
    "        matrix.append(baris2)\n",
    "    return matrix\n",
    "\n",
    "baris = int(input('Masukkan Jumlah Baris:\\t'))\n",
    "kolom = int(input('Masukkan Jumlah Kolom:\\t'))\n",
    "create_matrix(baris,kolom)\n",
    "\n"
   ]
  },
  {
   "cell_type": "code",
   "execution_count": 22,
   "metadata": {},
   "outputs": [
    {
     "name": "stdout",
     "output_type": "stream",
     "text": [
      "Matrix   :\n",
      " [[3.0, 7.0], [5.0, 8.0]]\n",
      "\n",
      "Invers   :\n",
      " [[-0.72727273  0.63636364]\n",
      " [ 0.45454545 -0.27272727]]\n"
     ]
    }
   ],
   "source": [
    "import numpy as np\n",
    "\n",
    "def create_matrix():\n",
    "    baris = int(input('Masukkan Jumlah Baris:'))\n",
    "    kolom = int(input('Masukkan Jumlah Kolom:'))\n",
    "    matrix = []\n",
    "    for i in range(baris):\n",
    "        bariss = []\n",
    "        for j in range(kolom):\n",
    "            elemen = float(input(f\"Masukkan elemen matrix[{i}][{j}]: \"))\n",
    "            bariss.append(elemen)\n",
    "        matrix.append(bariss)\n",
    "    return matrix\n",
    "\n",
    "def invers(matrix):\n",
    "    try:\n",
    "        invers_matrix = np.linalg.inv(matrix)\n",
    "        return invers_matrix\n",
    "    except np.linalg.LinAlgError:\n",
    "        return \"Invers matrix tidak dapat ditemukan.\"\n",
    "\n",
    "\n",
    "matrix = create_matrix()\n",
    "invers_matrix = invers(matrix)\n",
    "print('Matrix   :\\n', matrix)\n",
    "print()\n",
    "print('Invers   :\\n', invers_matrix)"
   ]
  },
  {
   "cell_type": "code",
   "execution_count": 3,
   "metadata": {},
   "outputs": [
    {
     "data": {
      "text/plain": [
       "[[1.0, 2.0, 3.0], [4.0, 5.0, 6.0]]"
      ]
     },
     "execution_count": 3,
     "metadata": {},
     "output_type": "execute_result"
    }
   ],
   "source": [
    "def bagi_matrix(matrix1, skalar):\n",
    "    hasil = []\n",
    "    for i in range(baris) :\n",
    "        baris2 = []\n",
    "        for j in range(kolom) :\n",
    "            nilai = matrix1[i][j]/skalar\n",
    "            baris2.append(nilai)\n",
    "        hasil.append(baris2)\n",
    "    return hasil\n",
    "\n",
    "baris = int(input('Masukkan Jumlah Baris:\\t'))\n",
    "kolom = int(input('Masukkan Jumlah Kolom:\\t'))\n",
    "\n",
    "matrix1 = []\n",
    "for x in range(baris):\n",
    "    baris2 = []\n",
    "    for y in range(kolom):\n",
    "        angka = int(input(f\"Masukkan elemen matriks[{x}][{y}]: \"))\n",
    "        baris2.append(angka)\n",
    "    matrix1.append(baris2)\n",
    "\n",
    "skalar = int(input('Matrix dibagi berapa?\\t'))\n",
    "if skalar == 0:\n",
    "    print('Error    : Pembagi tidak boleh nol')\n",
    "\n",
    "bagi_matrix(matrix1, skalar)"
   ]
  }
 ],
 "metadata": {
  "kernelspec": {
   "display_name": "Python 3",
   "language": "python",
   "name": "python3"
  },
  "language_info": {
   "codemirror_mode": {
    "name": "ipython",
    "version": 3
   },
   "file_extension": ".py",
   "mimetype": "text/x-python",
   "name": "python",
   "nbconvert_exporter": "python",
   "pygments_lexer": "ipython3",
   "version": "3.10.7"
  },
  "orig_nbformat": 4
 },
 "nbformat": 4,
 "nbformat_minor": 2
}
